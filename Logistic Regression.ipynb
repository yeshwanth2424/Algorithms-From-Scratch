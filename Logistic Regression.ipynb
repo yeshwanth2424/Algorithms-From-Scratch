{
 "cells": [
  {
   "cell_type": "code",
   "execution_count": 221,
   "metadata": {},
   "outputs": [],
   "source": [
    "import math\n",
    "import numpy as np\n",
    "import warnings\n",
    "import tqdm\n",
    "import pandas as pd\n",
    "from sklearn.datasets import make_classification\n",
    "from sklearn.model_selection import train_test_split\n",
    "from sklearn.preprocessing import StandardScaler\n",
    "from sklearn import linear_model"
   ]
  },
  {
   "cell_type": "markdown",
   "metadata": {},
   "source": [
    "## Logistic regression using Object oriented programming"
   ]
  },
  {
   "cell_type": "code",
   "execution_count": 208,
   "metadata": {},
   "outputs": [],
   "source": [
    "class LogisticRegression():\n",
    "    def __init__(self,eta,alpha,epochs):\n",
    "        self.eta = eta\n",
    "        self.alpha = alpha\n",
    "        self.epochs = epochs\n",
    "        self.epochs_ran = 0\n",
    "        \n",
    "    def initialize_weights(self,dim):\n",
    "        self.w = np.arange(dim)\n",
    "        self.w = np.zeros_like(self.w)\n",
    "        self.b = 0\n",
    "        \n",
    "    def sigmoid(self,z):\n",
    "        sigmoid=1/(1+(math.e)**(-z))\n",
    "        return sigmoid\n",
    "    \n",
    "    def logloss(self,y_true,y_pred):\n",
    "        loss=0\n",
    "        n=len(y_true)\n",
    "        for i in range(n):\n",
    "            loss=loss+(y_true[i]*(math.log(y_pred[i],10))+(1-y_true[i])*(math.log(1-y_pred[i],10)))\n",
    "        loss=loss/(-n)\n",
    "        return loss\n",
    "    \n",
    "    def gradient_dw(self,x,y,w,b,alpha,N):\n",
    "        dw = -(x*(y-self.sigmoid(np.dot(w,x)+b))-(alpha/N)*w)\n",
    "        return dw\n",
    "    \n",
    "    def gradient_db(self,x,y,w,b):\n",
    "        db= -(y-self.sigmoid(np.dot(w,x)+b))\n",
    "        return db\n",
    "        \n",
    "    def fit(self,X_train,y_train,X_test,y_test):\n",
    "        N = X_train.shape[0]\n",
    "        dim = X_train.shape[1]\n",
    "        self.initialize_weights(dim)\n",
    "        alpha = self.alpha\n",
    "        eta = self.eta\n",
    "        self.loss_train=[]\n",
    "        self.loss_test=[]\n",
    "        epsilon=1e-9\n",
    "        \n",
    "        for i in range(self.epochs):\n",
    "           \n",
    "            for j in range(N):\n",
    "                x=X_train[j]\n",
    "                y=y_train[j]\n",
    "                g_dw = self.gradient_dw(x,y,self.w,self.b,alpha,N)\n",
    "                g_db = self.gradient_db(x,y,self.w,self.b)\n",
    "                self.w = self.w - eta*(g_dw)\n",
    "                self.b = self.b - eta*(g_db)\n",
    "                \n",
    "            y_train_pred=[]\n",
    "            for k in X_train:\n",
    "                y_pred=self.sigmoid(np.dot(self.w, k) + self.b)\n",
    "                if(y_pred==0 or y_pred==1):\n",
    "                    if(y_pred==0):\n",
    "                        y_pred=y_pred+epsilon\n",
    "                    else:\n",
    "                        y_pred=y_pred-epsilon\n",
    "                y_train_pred.append(y_pred)\n",
    "                \n",
    "            loss1 = self.logloss(y_train,y_train_pred)\n",
    "            self.loss_train.append(loss1)\n",
    "            \n",
    "            y_test_pred=[]\n",
    "            for k in X_test:\n",
    "                y_pred=self.sigmoid(np.dot(self.w, k) + self.b)\n",
    "                if(y_pred==0 or y_pred==1):\n",
    "                    if(y_pred==0):\n",
    "                        y_pred=y_pred+epsilon\n",
    "                    else:\n",
    "                        y_pred=y_pred-epsilon\n",
    "                y_test_pred.append(y_pred)\n",
    "            loss2 = self.logloss(y_test,y_test_pred)\n",
    "            self.loss_test.append(loss2)\n",
    "            \n",
    "            if i>0:\n",
    "                train_curr_loss=self.loss_train[i]\n",
    "                train_prev_loss=self.loss_train[i-1]\n",
    "                test_curr_loss=self.loss_test[i]\n",
    "                test_prev_loss=self.loss_test[i-1]\n",
    "                if((train_prev_loss-train_curr_loss<=0.0001) and (test_prev_loss-test_curr_loss<=0.0001)):\n",
    "                    break\n",
    "        self.epochs_ran = i+1"
   ]
  },
  {
   "cell_type": "code",
   "execution_count": 121,
   "metadata": {},
   "outputs": [],
   "source": [
    "# please don't change random_state\n",
    "X, y = make_classification(n_samples=50000, n_features=15, n_informative=10, n_redundant=5,\n",
    "                           n_classes=2, weights=[0.7], class_sep=0.7,random_state=15)\n",
    "# make_classification is used to create custom dataset \n",
    "# Please check this link (https://scikit-learn.org/stable/modules/generated/sklearn.datasets.make_classification.html) for more details"
   ]
  },
  {
   "cell_type": "code",
   "execution_count": 122,
   "metadata": {},
   "outputs": [],
   "source": [
    "#please don't change random state\n",
    "X_train, X_test, y_train, y_test = train_test_split(X, y, test_size=0.25,random_state=15)"
   ]
  },
  {
   "cell_type": "code",
   "execution_count": 123,
   "metadata": {},
   "outputs": [],
   "source": [
    "# Standardizing the data.\n",
    "scaler = StandardScaler()\n",
    "X_train = scaler.fit_transform(X_train)\n",
    "X_test = scaler.transform(X_test)"
   ]
  },
  {
   "cell_type": "code",
   "execution_count": 209,
   "metadata": {},
   "outputs": [],
   "source": [
    "lr = LogisticRegression(eta=0.0001,alpha=0.0001,epochs=50)"
   ]
  },
  {
   "cell_type": "code",
   "execution_count": 211,
   "metadata": {},
   "outputs": [],
   "source": [
    "lr.fit(X_train,y_train,X_test,y_test)"
   ]
  },
  {
   "cell_type": "code",
   "execution_count": 222,
   "metadata": {},
   "outputs": [
    {
     "name": "stdout",
     "output_type": "stream",
     "text": [
      "[-0.89482323  0.63922609 -0.07409042  0.63113611 -0.38279876  0.9346933\n",
      " -0.89664514 -0.07124397  0.41113377  0.41550075  0.24845771  0.05300616\n",
      " -0.08703024  0.53952896  0.06749254] -1.3030058566516545\n"
     ]
    }
   ],
   "source": [
    "print(lr.w,lr.b)"
   ]
  },
  {
   "cell_type": "code",
   "execution_count": 213,
   "metadata": {
    "scrolled": true
   },
   "outputs": [
    {
     "data": {
      "image/png": "[encoded data removed]",
      "text/plain": [
       "<Figure size 432x288 with 1 Axes>"
      ]
     },
     "metadata": {},
     "output_type": "display_data"
    }
   ],
   "source": [
    "import matplotlib.pyplot as plt\n",
    "epochs = [i+1 for i in range(len(lr.loss_train))]\n",
    "plt.plot(epochs,lr.loss_train, label='loss_train')\n",
    "plt.plot(epochs,lr.loss_test, label='loss_test')\n",
    "plt.title('Epochs VS Loss')\n",
    "plt.legend()\n",
    "plt.show()"
   ]
  },
  {
   "cell_type": "markdown",
   "metadata": {},
   "source": [
    "## Logistic regression without Object oriented programming"
   ]
  },
  {
   "cell_type": "code",
   "execution_count": 172,
   "metadata": {},
   "outputs": [],
   "source": [
    "def initialize_weights(dim):\n",
    "    ''' In this function, we will initialize our weights and bias'''\n",
    "    w=np.arange(len(dim))\n",
    "    #initialize the weights to zeros array of (1,dim) dimensions\n",
    "    w=np.zeros_like(w)\n",
    "    #you use zeros_like function to initialize zero, check this link https://docs.scipy.org/doc/numpy/reference/generated/numpy.zeros_like.html\n",
    "    b=0\n",
    "    #initialize bias to zero\n",
    "\n",
    "    return w,b"
   ]
  },
  {
   "cell_type": "code",
   "execution_count": 173,
   "metadata": {},
   "outputs": [
    {
     "name": "stdout",
     "output_type": "stream",
     "text": [
      "w = [0 0 0 0 0 0 0 0 0 0 0 0 0 0 0]\n",
      "b = 0\n"
     ]
    }
   ],
   "source": [
    "dim=X_train[0] \n",
    "w,b = initialize_weights(dim)\n",
    "print('w =',(w))\n",
    "print('b =',str(b))"
   ]
  },
  {
   "cell_type": "code",
   "execution_count": 174,
   "metadata": {},
   "outputs": [],
   "source": [
    "import math\n",
    "def sigmoid(z):\n",
    "    ''' In this function, we will return sigmoid of z'''\n",
    "    # compute sigmoid(z) and return\n",
    "    sigmoid=1/(1+(math.e)**(-z))\n",
    "\n",
    "    return sigmoid"
   ]
  },
  {
   "cell_type": "code",
   "execution_count": 175,
   "metadata": {},
   "outputs": [],
   "source": [
    "def logloss(y_true,y_pred):\n",
    "    '''In this function, we will compute log loss '''\n",
    "    loss=0\n",
    "    n=len(y_true)\n",
    "    for i in range(n):\n",
    "        loss=loss+(y_true[i]*(math.log(y_pred[i],10))+(1-y_true[i])*(math.log(1-y_pred[i],10)))\n",
    "    loss=loss/(-n)\n",
    "    return loss"
   ]
  },
  {
   "cell_type": "code",
   "execution_count": 176,
   "metadata": {},
   "outputs": [],
   "source": [
    "def gradient_dw(x,y,w,b,alpha,N):\n",
    "    '''In this function, we will compute the gardient w.r.to w '''\n",
    "    dw=x*(y-sigmoid(np.dot(w,x)+b))-(alpha/N)*w\n",
    "    return dw"
   ]
  },
  {
   "cell_type": "code",
   "execution_count": 177,
   "metadata": {},
   "outputs": [],
   "source": [
    " def gradient_db(x,y,w,b):\n",
    "        '''In this function, we will compute gradient w.r.to b '''\n",
    "        db=y-sigmoid(np.dot(w,x)+b)\n",
    "        return db"
   ]
  },
  {
   "cell_type": "code",
   "execution_count": 215,
   "metadata": {},
   "outputs": [],
   "source": [
    "from tqdm import tqdm\n",
    "def train(X_train,y_train,X_test,y_test,epochs,alpha,eta0):\n",
    "    \n",
    "    ''' In this function, we will implement logistic regression'''\n",
    "    #Here eta0 is learning rate\n",
    "    #implement the code as follows\n",
    "    # initalize the weights (call the initialize_weights(X_train[0]) function)\n",
    "    # for every epoch\n",
    "        # for every data point(X_train,y_train)\n",
    "           #compute gradient w.r.to w (call the gradient_dw() function)\n",
    "           #compute gradient w.r.to b (call the gradient_db() function)\n",
    "           #update w, b\n",
    "        # predict the output of x_train[for all data points in X_train] using w,b\n",
    "        #compute the loss between predicted and actual values (call the loss function)\n",
    "        # store all the train loss values in a list\n",
    "        # predict the output of x_test[for all data points in X_test] using w,b\n",
    "        #compute the loss between predicted and actual values (call the loss function)\n",
    "        # store all the test loss values in a list\n",
    "        # you can also compare previous loss and current loss, if loss is not updating then stop the process and return w,b\n",
    "    w,b = initialize_weights(X_train[0])\n",
    "    N=len(X_train)\n",
    "    loss_train=[]\n",
    "    loss_test=[]\n",
    "    epsilon=1e-9\n",
    "    for i in tqdm(range(epochs)):\n",
    "        for j in range(N):\n",
    "            x=X_train[j]\n",
    "            y=y_train[j]\n",
    "            g_dw = gradient_dw(x,y,w,b,alpha,N)\n",
    "            g_db = gradient_db(x,y,w,b)\n",
    "            w = w+eta0*(g_dw)\n",
    "            b = b+eta0*(g_db)\n",
    "        #print(w,b)\n",
    "        y_train_pred=[]\n",
    "        for k in X_train:\n",
    "            y_pred=sigmoid(np.dot(w, k) + b)\n",
    "            if(y_pred==0 or y_pred==1):\n",
    "                if(y_pred==0):\n",
    "                    y_pred=y_pred+epsilon\n",
    "                else:\n",
    "                    y_pred=y_pred-epsilon\n",
    "            y_train_pred.append(y_pred)\n",
    "        loss_train.append(logloss(y_train,y_train_pred))\n",
    "        y_test_pred=[]\n",
    "        for k in X_test:\n",
    "            y_pred=sigmoid(np.dot(w, k) + b)\n",
    "            if(y_pred==0 or y_pred==1):\n",
    "                if(y_pred==0):\n",
    "                    y_pred=y_pred+epsilon\n",
    "                else:\n",
    "                    y_pred=y_pred-epsilon\n",
    "            y_test_pred.append(y_pred)\n",
    "        loss_test.append(logloss(y_test,y_test_pred))\n",
    "        if i>0:\n",
    "            train_curr_loss=loss_train[i]\n",
    "            train_prev_loss=loss_train[i-1]\n",
    "            test_curr_loss=loss_test[i]\n",
    "            test_prev_loss=loss_test[i-1]\n",
    "            if((train_prev_loss-train_curr_loss<=0.0001) and (test_prev_loss-test_curr_loss<=0.0001)):\n",
    "                break\n",
    "    return w,b,loss_train,loss_test"
   ]
  },
  {
   "cell_type": "code",
   "execution_count": 216,
   "metadata": {},
   "outputs": [
    {
     "name": "stderr",
     "output_type": "stream",
     "text": [
      " 26%|█████████████████████▎                                                            | 13/50 [00:11<00:33,  1.09it/s]\n"
     ]
    },
    {
     "data": {
      "text/plain": [
       "(array([-0.89482323,  0.63922609, -0.07409042,  0.63113611, -0.38279876,\n",
       "         0.9346933 , -0.89664514, -0.07124397,  0.41113377,  0.41550075,\n",
       "         0.24845771,  0.05300616, -0.08703024,  0.53952896,  0.06749254]),\n",
       " -1.3030058566516545)"
      ]
     },
     "execution_count": 216,
     "metadata": {},
     "output_type": "execute_result"
    }
   ],
   "source": [
    "alpha=0.0001\n",
    "eta0=0.0001\n",
    "N=len(X_train)\n",
    "epochs=50\n",
    "w,b,loss_train,loss_test=train(X_train,y_train,X_test,y_test,epochs,alpha,eta0)\n",
    "w,b"
   ]
  },
  {
   "cell_type": "code",
   "execution_count": 180,
   "metadata": {},
   "outputs": [
    {
     "data": {
      "image/png": "[encoded data removed]",
      "text/plain": [
       "<Figure size 432x288 with 1 Axes>"
      ]
     },
     "metadata": {},
     "output_type": "display_data"
    }
   ],
   "source": [
    "import matplotlib.pyplot as plt\n",
    "epochs = [i+1 for i in range(len(loss_train))]\n",
    "plt.plot(epochs,loss_train, label='loss_train')\n",
    "plt.plot(epochs,loss_test, label='loss_test')\n",
    "plt.title('Epochs VS Loss')\n",
    "plt.legend()\n",
    "plt.show()"
   ]
  }
 ],
 "metadata": {
  "kernelspec": {
   "display_name": "Python 3",
   "language": "python",
   "name": "python3"
  },
  "language_info": {
   "codemirror_mode": {
    "name": "ipython",
    "version": 3
   },
   "file_extension": ".py",
   "mimetype": "text/x-python",
   "name": "python",
   "nbconvert_exporter": "python",
   "pygments_lexer": "ipython3",
   "version": "3.6.5"
  }
 },
 "nbformat": 4,
 "nbformat_minor": 2
}
